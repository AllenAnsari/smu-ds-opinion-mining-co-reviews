{
 "cells": [
  {
   "cell_type": "markdown",
   "metadata": {},
   "source": [
    "Load Data"
   ]
  },
  {
   "cell_type": "code",
   "execution_count": 1,
   "metadata": {},
   "outputs": [],
   "source": [
    "import pandas as pd\n",
    "import pickle\n",
    "\n",
    "with open(\"../data/all_reviews.pkl\",\"rb\") as f:\n",
    "    reviews = pickle.load(f)\n",
    "    "
   ]
  },
  {
   "cell_type": "markdown",
   "metadata": {},
   "source": [
    "Find Titles with common names"
   ]
  },
  {
   "cell_type": "code",
   "execution_count": 2,
   "metadata": {},
   "outputs": [
    {
     "name": "stdout",
     "output_type": "stream",
     "text": [
      "{'io', 'sciencearchtect', 'applic', 'java', 'system', 'data', 'web', 'analyst', 'develop', 'comput', 'programm', 'technolog', 'network', 'softwar', 'devop', 'agil', 'databas', 'cloud', 'analyt'}\n"
     ]
    }
   ],
   "source": [
    "from nltk import PorterStemmer\n",
    "\n",
    "stemmer = PorterStemmer()\n",
    "\n",
    "job_keywords=[\n",
    "    \"software\"\n",
    "    ,\"developer\"\n",
    "    ,\"web\"\n",
    "    ,\"application\"\n",
    "    ,\"system\"\n",
    "    ,\"computer\"\n",
    "    ,\"programmer\"\n",
    "    ,\"devops\"\n",
    "    ,\"devop\"\n",
    "    ,\"cloud\"\n",
    "    ,\"database\"\n",
    "    ,\"agile\"\n",
    "    ,\"system\"\n",
    "    ,\"technology\"\n",
    "    ,\"ios\"\n",
    "    ,\"java\"\n",
    "    ,\"analytics\"\n",
    "    ,\"analyst\"\n",
    "    ,\"data\"\n",
    "    ,\"science\"\n",
    "    \"archtect\"\n",
    "    ,\"network\"\n",
    "]\n",
    "\n",
    "job_keywords = [ stemmer.stem(word) for word in job_keywords ]\n",
    "\n",
    "job_keywords = set(job_keywords)\n",
    "print(job_keywords)"
   ]
  },
  {
   "cell_type": "markdown",
   "metadata": {},
   "source": [
    "Find Jobs!"
   ]
  },
  {
   "cell_type": "code",
   "execution_count": 3,
   "metadata": {},
   "outputs": [],
   "source": [
    "clean_job_title = reviews.clean_job_title.unique().tolist()\n",
    "\n",
    "def findJobTItles(job):\n",
    "    tokens = str(job).split(\" \")\n",
    "    tokens = [ stemmer.stem(word) for word in tokens ]\n",
    "    tokens = set(tokens)\n",
    "    return len( [ word for word in tokens if word in job_keywords ]) > 1\n",
    "\n",
    "filter_titles = list( filter(findJobTItles, clean_job_title))"
   ]
  },
  {
   "cell_type": "code",
   "execution_count": 4,
   "metadata": {
    "scrolled": true
   },
   "outputs": [
    {
     "name": "stdout",
     "output_type": "stream",
     "text": [
      "Jobs Found 12764\n"
     ]
    },
    {
     "data": {
      "text/plain": [
       "'Sample Job Titles'"
      ]
     },
     "metadata": {},
     "output_type": "display_data"
    },
    {
     "data": {
      "text/plain": [
       "['data analyst',\n",
       " 'software developer',\n",
       " 'analyst ml and data analytics team ',\n",
       " 'senior s 4 hana data migration technical lead architect senior developer',\n",
       " 'manager of tax data analytics',\n",
       " 'advance data analytics associate',\n",
       " 'senior consultant data analytics',\n",
       " 'senior analyst programmer bi in fraud area',\n",
       " 'tax technology data analytics intern',\n",
       " 'korean web content producer analyst']"
      ]
     },
     "metadata": {},
     "output_type": "display_data"
    }
   ],
   "source": [
    "print(\"Jobs Found\", len(filter_titles))\n",
    "display(\"Sample Job Titles\", filter_titles[:10])"
   ]
  },
  {
   "cell_type": "markdown",
   "metadata": {},
   "source": [
    "Let's exclude words"
   ]
  },
  {
   "cell_type": "code",
   "execution_count": 5,
   "metadata": {},
   "outputs": [],
   "source": [
    "exclude_keywords = [\n",
    "    \"camp\"\n",
    "    ,\"tutor\"\n",
    "    ,\"professor\"\n",
    "    ,\"entry\"\n",
    "    ,\"entries\"\n",
    "    ,\"teacher\"\n",
    "    ,\"audio\"\n",
    "    ,\"civil\"\n",
    "    ,\"facility\"\n",
    "    ,\"facilities\"\n",
    "    ,\"industrial\"\n",
    "    ,\"metals\"   \n",
    "]\n",
    "\n",
    "exclude_keywords = [ stemmer.stem(word) for word in exclude_keywords ]\n",
    "exclude_keywords = set(exclude_keywords)\n",
    "\n",
    "\n",
    "\n",
    "def excludeJobTItles(job):\n",
    "    tokens = str(job).split(\" \")\n",
    "    tokens = set(tokens)\n",
    "    tokens = [ stemmer.stem(word) for word in tokens ]\n",
    "    return len( [ word for word in tokens if word in exclude_keywords ] ) == 0\n",
    "\n",
    "filter_titles_2 = list( filter(excludeJobTItles, filter_titles) )\n",
    "                       "
   ]
  },
  {
   "cell_type": "code",
   "execution_count": 6,
   "metadata": {},
   "outputs": [
    {
     "data": {
      "text/plain": [
       "12655"
      ]
     },
     "execution_count": 6,
     "metadata": {},
     "output_type": "execute_result"
    }
   ],
   "source": [
    "len(filter_titles_2)"
   ]
  },
  {
   "cell_type": "code",
   "execution_count": 7,
   "metadata": {},
   "outputs": [
    {
     "name": "stdout",
     "output_type": "stream",
     "text": [
      "Total Reviews 35362\n"
     ]
    }
   ],
   "source": [
    "print(\"Total Reviews\", sum( reviews[\"clean_job_title\"].isin(filter_titles_2) ) )"
   ]
  },
  {
   "cell_type": "code",
   "execution_count": null,
   "metadata": {},
   "outputs": [],
   "source": []
  }
 ],
 "metadata": {
  "kernelspec": {
   "display_name": "Python 3",
   "language": "python",
   "name": "python3"
  },
  "language_info": {
   "codemirror_mode": {
    "name": "ipython",
    "version": 3
   },
   "file_extension": ".py",
   "mimetype": "text/x-python",
   "name": "python",
   "nbconvert_exporter": "python",
   "pygments_lexer": "ipython3",
   "version": "3.7.0"
  }
 },
 "nbformat": 4,
 "nbformat_minor": 4
}
