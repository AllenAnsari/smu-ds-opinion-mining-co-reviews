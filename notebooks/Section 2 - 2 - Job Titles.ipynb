{
 "cells": [
  {
   "cell_type": "markdown",
   "metadata": {},
   "source": [
    "Load Data"
   ]
  },
  {
   "cell_type": "code",
   "execution_count": 4,
   "metadata": {},
   "outputs": [],
   "source": [
    "import pandas as pd\n",
    "import pickle\n",
    "\n",
    "with open(\"../data/all_reviews.pkl\",\"rb\") as f:\n",
    "    reviews = pickle.load(f)\n",
    "    "
   ]
  },
  {
   "cell_type": "markdown",
   "metadata": {},
   "source": [
    "Find Titles with common names"
   ]
  },
  {
   "cell_type": "code",
   "execution_count": 8,
   "metadata": {},
   "outputs": [],
   "source": [
    "job_keywords=[\n",
    "    \"software\"\n",
    "    ,\"developer\"\n",
    "    ,\"web\"\n",
    "    ,\"application\"\n",
    "    ,\"appliations\"\n",
    "    ,\"system\"\n",
    "    ,\"computer\"\n",
    "    ,\"programmer\"\n",
    "    ,\"devops\"\n",
    "    ,\"devop\"\n",
    "    ,\"cloud\"\n",
    "    ,\"database\"\n",
    "    ,\"agile\"\n",
    "    ,\"system\"\n",
    "    ,\"technology\"\n",
    "    ,\"ios\"\n",
    "    ,\"java\"\n",
    "    ,\"analytics\"\n",
    "    ,\"analyst\"\n",
    "    ,\"data\"\n",
    "    ,\"science\"\n",
    "]\n"
   ]
  },
  {
   "cell_type": "markdown",
   "metadata": {},
   "source": [
    "Find Jobs!"
   ]
  },
  {
   "cell_type": "code",
   "execution_count": 9,
   "metadata": {},
   "outputs": [],
   "source": [
    "job_titles = reviews.clean_job_title.unique().tolist()\n",
    "\n",
    "def findJobTItles(job):\n",
    "    tokens = str(job).split(\" \")\n",
    "    tokens = set(tokens)\n",
    "    return len( [ word for word in tokens if word in job_keywords ]) > 1\n",
    "\n",
    "filter_titles = list( filter(findJobTItles, job_titles))"
   ]
  },
  {
   "cell_type": "code",
   "execution_count": 10,
   "metadata": {
    "scrolled": true
   },
   "outputs": [
    {
     "name": "stdout",
     "output_type": "stream",
     "text": [
      "Jobs Found 9405\n"
     ]
    },
    {
     "data": {
      "text/plain": [
       "'Sample Job Titles'"
      ]
     },
     "metadata": {},
     "output_type": "display_data"
    },
    {
     "data": {
      "text/plain": [
       "['senior software developer',\n",
       " 'software developer i',\n",
       " 'maintenance engineer maintenance system analyst',\n",
       " 'technology service delivery analyst',\n",
       " 'software programmer',\n",
       " 'mc plus data base technology',\n",
       " 'Junior web developer',\n",
       " 'is t business analyst project technology team lead i ',\n",
       " 'senior procurement system analyst',\n",
       " 'full stack software developer']"
      ]
     },
     "metadata": {},
     "output_type": "display_data"
    }
   ],
   "source": [
    "print(\"Jobs Found\", len(filter_titles))\n",
    "display(\"Sample Job Titles\", filter_titles[:10])"
   ]
  },
  {
   "cell_type": "markdown",
   "metadata": {},
   "source": [
    "Let's exclude words"
   ]
  },
  {
   "cell_type": "code",
   "execution_count": 11,
   "metadata": {},
   "outputs": [],
   "source": [
    "exlcude_keywords = [\n",
    "    \"camp\"\n",
    "    ,\"tutor\"\n",
    "    ,\"professor\"\n",
    "    ,\"entry\"\n",
    "    ,\"entries\"\n",
    "    ,\"teacher\"\n",
    "    ,\"audio\"\n",
    "    ,\"civil\"\n",
    "    ,\"facility\"\n",
    "    ,\"facilities\"\n",
    "    ,\"industrial\"\n",
    "    ,\"metals\"   \n",
    "]\n",
    "\n",
    "def excludeJobTItles(job):\n",
    "    tokens = str(job).split(\" \")\n",
    "    tokens = set(tokens)\n",
    "    return len( [ word for word in tokens if word in exlcude_keywords ] ) == 0\n",
    "\n",
    "filter_titles_2 = list( filter(excludeJobTItles, filter_titles) )\n",
    "                       "
   ]
  },
  {
   "cell_type": "code",
   "execution_count": 12,
   "metadata": {},
   "outputs": [
    {
     "data": {
      "text/plain": [
       "9298"
      ]
     },
     "execution_count": 12,
     "metadata": {},
     "output_type": "execute_result"
    }
   ],
   "source": [
    "len(filter_titles_2)"
   ]
  },
  {
   "cell_type": "code",
   "execution_count": null,
   "metadata": {},
   "outputs": [],
   "source": []
  }
 ],
 "metadata": {
  "kernelspec": {
   "display_name": "Python 3",
   "language": "python",
   "name": "python3"
  },
  "language_info": {
   "codemirror_mode": {
    "name": "ipython",
    "version": 3
   },
   "file_extension": ".py",
   "mimetype": "text/x-python",
   "name": "python",
   "nbconvert_exporter": "python",
   "pygments_lexer": "ipython3",
   "version": "3.7.0"
  }
 },
 "nbformat": 4,
 "nbformat_minor": 4
}
